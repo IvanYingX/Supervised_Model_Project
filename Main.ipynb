{
  "nbformat": 4,
  "nbformat_minor": 0,
  "metadata": {
    "colab": {
      "name": "Main.ipynb",
      "provenance": [],
      "collapsed_sections": []
    },
    "kernelspec": {
      "name": "python3",
      "display_name": "Python 3",
      "language": "python"
    },
    "accelerator": "GPU"
  },
  "cells": [
    {
      "cell_type": "code",
      "metadata": {
        "id": "p3xt3hPffTG1"
      },
      "source": [
        "import pandas as pd\n",
        "import numpy as np\n",
        "import matplotlib.pyplot as plt\n",
        "\n",
        "from sklearn.metrics import accuracy_score\n",
        "from sklearn.model_selection import cross_val_score\n",
        "from sklearn.model_selection import cross_val_predict\n",
        "from sklearn.neighbors import KNeighborsClassifier\n",
        "from sklearn.svm import SVC\n",
        "from sklearn.tree import DecisionTreeClassifier\n",
        "from sklearn.ensemble import AdaBoostClassifier\n",
        "from sklearn.ensemble import GradientBoostingClassifier\n",
        "from sklearn.ensemble import RandomForestClassifier\n",
        "from sklearn.naive_bayes import GaussianNB\n",
        "from sklearn.discriminant_analysis import LinearDiscriminantAnalysis\n",
        "from sklearn.discriminant_analysis import QuadraticDiscriminantAnalysis\n",
        "from sklearn.linear_model import LogisticRegression\n",
        "from sklearn.model_selection import StratifiedKFold\n",
        "from sklearn.model_selection import train_test_split\n",
        "from sklearn.model_selection import StratifiedShuffleSplit\n",
        "from sklearn.linear_model import SGDClassifier\n",
        "from sklearn.base import clone\n",
        "from sklearn.metrics import precision_score\n",
        "from sklearn.metrics import recall_score\n",
        "from sklearn.metrics import f1_score\n",
        "from sklearn.metrics import confusion_matrix\n",
        "from sklearn.metrics import plot_confusion_matrix\n",
        "\n",
        "# Load the data\n",
        "df = pd.read_csv('Data_For_Model.csv')\n",
        "X = df.iloc[:, 1::].values\n",
        "y = df.iloc[:, 0].values\n",
        "# Split the data into train and validation. The training set will be\n",
        "# used later in k-cross validation, so it remains as X, and y\n",
        "X, X_validation, y, y_validation = train_test_split(X, y, test_size=0.3,\n",
        "                                                    random_state=42)\n",
        "\n",
        "n_splits = 5\n",
        "skfolds = StratifiedKFold(n_splits=n_splits)\n",
        "\n",
        "classifiers = [\n",
        "    SGDClassifier(random_state=42),\n",
        "    KNeighborsClassifier(3),\n",
        "    DecisionTreeClassifier(),\n",
        "    RandomForestClassifier(n_estimators=100),\n",
        "    AdaBoostClassifier(),\n",
        "    GaussianNB(),\n",
        "    LinearDiscriminantAnalysis(),\n",
        "    QuadraticDiscriminantAnalysis()]\n"
      ],
      "execution_count": 22,
      "outputs": []
    },
    {
      "cell_type": "code",
      "metadata": {
        "id": "bK0wfX2ypT4l"
      },
      "source": [
        "cols = ['Classifier', 'Accuracy', 'Precision', 'Recall', 'F1Score']\n",
        "df_metrics = pd.DataFrame(columns=cols)\n",
        "acc_dict = {}\n",
        "prec_dict = {}\n",
        "recall_dict = {}\n",
        "f1_dict = {}\n",
        "\n",
        "# Fit each model with k splits. Thus, we split the data\n",
        "# into (n_splits) buckets, and use (n_splits - 1) buckets to \n",
        "# train, and 1 bucket to validate the model. Previously we already\n",
        "# split the data into training and \n",
        "for clf in classifiers:\n",
        "    for train_index, test_index in skfolds.split(X, y):\n",
        "        X_train, X_test = X[train_index], X[test_index]\n",
        "        y_train, y_test = y[train_index], y[test_index]\n",
        "\n",
        "        name = clf.__class__.__name__\n",
        "        clf.fit(X_train, y_train)\n",
        "        y_pred = clf.predict(X_test)\n",
        "        accu = accuracy_score(y_test, y_pred)\n",
        "        prec = precision_score(y_test, y_pred, average='weighted')\n",
        "        recall = recall_score(y_test, y_pred, average='weighted')\n",
        "        f1 = f1_score(y_test, y_pred, average='weighted')\n",
        "        \n",
        "        if name in acc_dict:\n",
        "            acc_dict[name].append(accu)\n",
        "            prec_dict[name].append(prec)\n",
        "            recall_dict[name].append(recall)\n",
        "            f1_dict[name].append(f1)\n",
        "        else:\n",
        "            acc_dict[name] = [accu]\n",
        "            prec_dict[name] = [prec]\n",
        "            recall_dict[name] = [recall]\n",
        "            f1_dict[name] = [f1]"
      ],
      "execution_count": 17,
      "outputs": []
    },
    {
      "cell_type": "code",
      "metadata": {
        "colab": {
          "base_uri": "https://localhost:8080/",
          "height": 334
        },
        "id": "zyznOtoj7-SP",
        "outputId": "c07248d0-721f-40ec-ffc7-a862e24eda0d"
      },
      "source": [
        "disp = plot_confusion_matrix(clf, X_validation, y_validation,\r\n",
        "                                 cmap=plt.cm.Blues)\r\n",
        "print(disp.confusion_matrix)"
      ],
      "execution_count": 25,
      "outputs": [
        {
          "output_type": "stream",
          "text": [
            "[[17503   206     0]\n",
            " [  155 10383   147]\n",
            " [    0   133  9560]]\n"
          ],
          "name": "stdout"
        },
        {
          "output_type": "display_data",
          "data": {
            "image/png": "[encoded data removed]",
            "text/plain": [
              "<Figure size 432x288 with 2 Axes>"
            ]
          },
          "metadata": {
            "tags": [],
            "needs_background": "light"
          }
        }
      ]
    },
    {
      "cell_type": "code",
      "metadata": {
        "id": "SLWUfFnrpbEf",
        "colab": {
          "base_uri": "https://localhost:8080/",
          "height": 592
        },
        "outputId": "6d286e00-375d-45cc-d362-dee568227848"
      },
      "source": [
        "for classifier in acc_dict:\n",
        "    acc_dict[classifier] = np.mean(acc_dict[classifier])\n",
        "    prec_dict[classifier] = np.mean(prec_dict[classifier])\n",
        "    recall_dict[classifier] = np.mean(recall_dict[classifier])\n",
        "    f1_dict[classifier] = np.mean(f1_dict[classifier])\n",
        "    new_entry = pd.DataFrame([[classifier, acc_dict[classifier], prec_dict[classifier],\n",
        "                               recall_dict[classifier], f1_dict[classifier]]],\n",
        "                             columns=cols)\n",
        "    df_metrics = df_metrics.append(new_entry, ignore_index=True)\n",
        "\n",
        "barWidth = 0.2\n",
        "r1 = np.arange(len(df_metrics.Classifier))\n",
        "r2 = [x + barWidth for x in r1]\n",
        "r3 = [x + barWidth for x in r2]\n",
        "r4 = [x + barWidth for x in r3]\n",
        "\n",
        "fig, ax = plt.subplots(figsize=(15, 10))\n",
        "plt.bar(r1, df_metrics.Accuracy, width=0.2)\n",
        "plt.bar(r2, df_metrics.Precision, width=0.2)\n",
        "plt.bar(r3, df_metrics.Recall, width=0.2)\n",
        "plt.bar(r4, df_metrics.F1Score, width=0.2)\n",
        "plt.grid()"
      ],
      "execution_count": 14,
      "outputs": [
        {
          "output_type": "display_data",
          "data": {
            "image/png": "[encoded data removed]",
            "text/plain": [
              "<Figure size 1080x720 with 1 Axes>"
            ]
          },
          "metadata": {
            "tags": [],
            "needs_background": "light"
          }
        }
      ]
    }
  ]
}